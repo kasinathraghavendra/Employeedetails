{
  "nbformat": 4,
  "nbformat_minor": 0,
  "metadata": {
    "colab": {
      "provenance": [],
      "authorship_tag": "ABX9TyPb91YtCmV6uliSAxAnUtrH",
      "include_colab_link": true
    },
    "kernelspec": {
      "name": "python3",
      "display_name": "Python 3"
    },
    "language_info": {
      "name": "python"
    }
  },
  "cells": [
    {
      "cell_type": "markdown",
      "metadata": {
        "id": "view-in-github",
        "colab_type": "text"
      },
      "source": [
        "<a href=\"https://colab.research.google.com/github/kasinathraghavendra/Employeedetails/blob/main/Tandemloop.ipynb\" target=\"_parent\"><img src=\"https://colab.research.google.com/assets/colab-badge.svg\" alt=\"Open In Colab\"/></a>"
      ]
    },
    {
      "cell_type": "code",
      "execution_count": null,
      "metadata": {
        "id": "6CBaHcHeBy5d"
      },
      "outputs": [],
      "source": []
    },
    {
      "cell_type": "code",
      "source": [
        "# problem 1\n",
        "class Manipultations :\n",
        "    def _init_(self,a,b) :\n",
        "        self.a = a\n",
        "        self.b = b\n",
        "\n",
        "    def add(self,a,b) :\n",
        "        print(a+b)\n",
        "    def sub(self,a,b) :\n",
        "        print(a-b)\n",
        "    def multiply(self,a,b) :\n",
        "        print(a*b)\n",
        "    def divided(self,a,b) :\n",
        "        print(a/b)\n",
        "\n",
        "a = int(input())\n",
        "b=int(input())\n",
        "obj_1 = Manipultations ()\n",
        "obj_1.add(a,b)\n",
        "obj_1.sub(a,b)\n",
        "obj_1.multiply(a,b)\n",
        "obj_1.divided(a,b)"
      ],
      "metadata": {
        "colab": {
          "base_uri": "https://localhost:8080/"
        },
        "id": "BuJQYdV0B1Z1",
        "outputId": "1b5d6a61-d98b-4be5-bb00-9a70d48ce1d4"
      },
      "execution_count": 1,
      "outputs": [
        {
          "output_type": "stream",
          "name": "stdout",
          "text": [
            "5\n",
            "4\n",
            "9\n",
            "1\n",
            "20\n",
            "1.25\n"
          ]
        }
      ]
    },
    {
      "cell_type": "code",
      "source": [
        "#problem2,3\n",
        "\n",
        "a=int(input())\n",
        "\n",
        "s=[]\n",
        "for i in range(0,a+1) :\n",
        "    if i%2 !=0 :\n",
        "\n",
        "       s.append(i)\n",
        "\n",
        "for i in s :\n",
        "     print(i , end=\",\")"
      ],
      "metadata": {
        "colab": {
          "base_uri": "https://localhost:8080/"
        },
        "id": "zEZZvqD7CFuo",
        "outputId": "d92af0c0-d0e7-4ec9-e1ca-96f85a5097d3"
      },
      "execution_count": 2,
      "outputs": [
        {
          "output_type": "stream",
          "name": "stdout",
          "text": [
            "5\n",
            "1,3,5,"
          ]
        }
      ]
    },
    {
      "cell_type": "code",
      "source": [
        "#Get the total count of number listed in the dictionary which is multiple of [1,2,3,4,5,6,7,8,9]\n",
        "#  (examples)\n",
        " # input: [1,2,8,9,12,46,76,82,15,20,30]\n",
        "#  Output:\n",
        "   # {1: 11, 2: 8, 3: 4, 4: 4, 5: 3, 6: 2, 7: 0, 8: 1, 9: 1}\n",
        "a= [1,2,8,9,12,46,76,82,15,20,30]\n",
        "s = dict()\n",
        "for i in range (1,10) :\n",
        "    k=0\n",
        "    for j in a :\n",
        "        if j%i == 0 :\n",
        "           k+=1\n",
        "\n",
        "    s[i] = k\n",
        "\n",
        "print(s)\n",
        "\n"
      ],
      "metadata": {
        "colab": {
          "base_uri": "https://localhost:8080/"
        },
        "id": "evkn_J_QCYfX",
        "outputId": "0c74eb22-b6fa-41e6-cb8b-73d22cc61fbe"
      },
      "execution_count": 3,
      "outputs": [
        {
          "output_type": "stream",
          "name": "stdout",
          "text": [
            "{1: 11, 2: 8, 3: 4, 4: 4, 5: 3, 6: 2, 7: 0, 8: 1, 9: 1}\n"
          ]
        }
      ]
    },
    {
      "cell_type": "code",
      "source": [],
      "metadata": {
        "id": "1kyNe3yACisi"
      },
      "execution_count": null,
      "outputs": []
    }
  ]
}